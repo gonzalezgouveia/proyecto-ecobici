{
 "cells": [
  {
   "cell_type": "markdown",
   "metadata": {},
   "source": [
    "# Data preparation\n",
    "\n",
    "En este notebook quiero utilizar los datos que tenemos para crear un tabla que este limpia y lista para ser consumida por la etapa de modeling.\n",
    "\n",
    "El objetivo del modeling en este caso es predecir el número de usuarios activos para cierto día y cierta hora del día. En este sentido la tabla que quiero debe tener las columnas:\n",
    "* dia\n",
    "* hora\n",
    "* usuarios_activos (target)\n",
    "\n",
    "Donde el día sea de lunes a domingo, las horas de 00 a 23 y los usuarios activos un entero.\n",
    "\n",
    "Luego aplicaremos modelos predictivos para poder estimar el número de usuarios activos para un día y una hora dada.\n"
   ]
  },
  {
   "cell_type": "code",
   "execution_count": 2,
   "metadata": {
    "collapsed": true
   },
   "outputs": [],
   "source": [
    "import pandas as pd\n",
    "import matplotlib.pyplot as plt\n",
    "import seaborn as sns\n",
    "sns.set_style(\"darkgrid\")"
   ]
  },
  {
   "cell_type": "code",
   "execution_count": 3,
   "metadata": {
    "collapsed": true
   },
   "outputs": [],
   "source": [
    "# Leyendo los datos\n",
    "estaciones = pd.read_csv('ecobiciestaciones.csv')\n",
    "viajes = pd.read_csv('2018-06.csv')"
   ]
  },
  {
   "cell_type": "code",
   "execution_count": 4,
   "metadata": {},
   "outputs": [
    {
     "data": {
      "text/html": [
       "<div>\n",
       "<style>\n",
       "    .dataframe thead tr:only-child th {\n",
       "        text-align: right;\n",
       "    }\n",
       "\n",
       "    .dataframe thead th {\n",
       "        text-align: left;\n",
       "    }\n",
       "\n",
       "    .dataframe tbody tr th {\n",
       "        vertical-align: top;\n",
       "    }\n",
       "</style>\n",
       "<table border=\"1\" class=\"dataframe\">\n",
       "  <thead>\n",
       "    <tr style=\"text-align: right;\">\n",
       "      <th></th>\n",
       "      <th>Genero_Usuario</th>\n",
       "      <th>Edad_Usuario</th>\n",
       "      <th>Bici</th>\n",
       "      <th>Ciclo_Estacion_Retiro</th>\n",
       "      <th>Fecha_Retiro</th>\n",
       "      <th>Hora_Retiro</th>\n",
       "      <th>Ciclo_Estacion_Arribo</th>\n",
       "      <th>Fecha_Arribo</th>\n",
       "      <th>Hora_Arribo</th>\n",
       "    </tr>\n",
       "  </thead>\n",
       "  <tbody>\n",
       "    <tr>\n",
       "      <th>0</th>\n",
       "      <td>M</td>\n",
       "      <td>31</td>\n",
       "      <td>8871</td>\n",
       "      <td>170</td>\n",
       "      <td>01/06/2018</td>\n",
       "      <td>0:00:11</td>\n",
       "      <td>133</td>\n",
       "      <td>01/06/2018</td>\n",
       "      <td>0:18:39</td>\n",
       "    </tr>\n",
       "    <tr>\n",
       "      <th>1</th>\n",
       "      <td>M</td>\n",
       "      <td>37</td>\n",
       "      <td>10700</td>\n",
       "      <td>123</td>\n",
       "      <td>01/06/2018</td>\n",
       "      <td>0:00:31</td>\n",
       "      <td>52</td>\n",
       "      <td>01/06/2018</td>\n",
       "      <td>0:08:16</td>\n",
       "    </tr>\n",
       "    <tr>\n",
       "      <th>2</th>\n",
       "      <td>M</td>\n",
       "      <td>43</td>\n",
       "      <td>6763</td>\n",
       "      <td>9</td>\n",
       "      <td>01/06/2018</td>\n",
       "      <td>0:00:45</td>\n",
       "      <td>9</td>\n",
       "      <td>01/06/2018</td>\n",
       "      <td>0:42:43</td>\n",
       "    </tr>\n",
       "    <tr>\n",
       "      <th>3</th>\n",
       "      <td>M</td>\n",
       "      <td>23</td>\n",
       "      <td>10316</td>\n",
       "      <td>55</td>\n",
       "      <td>01/06/2018</td>\n",
       "      <td>0:00:52</td>\n",
       "      <td>111</td>\n",
       "      <td>01/06/2018</td>\n",
       "      <td>0:13:29</td>\n",
       "    </tr>\n",
       "    <tr>\n",
       "      <th>4</th>\n",
       "      <td>M</td>\n",
       "      <td>23</td>\n",
       "      <td>15304</td>\n",
       "      <td>139</td>\n",
       "      <td>01/06/2018</td>\n",
       "      <td>0:00:57</td>\n",
       "      <td>155</td>\n",
       "      <td>01/06/2018</td>\n",
       "      <td>0:19:33</td>\n",
       "    </tr>\n",
       "  </tbody>\n",
       "</table>\n",
       "</div>"
      ],
      "text/plain": [
       "  Genero_Usuario  Edad_Usuario   Bici  Ciclo_Estacion_Retiro Fecha_Retiro  \\\n",
       "0              M            31   8871                    170   01/06/2018   \n",
       "1              M            37  10700                    123   01/06/2018   \n",
       "2              M            43   6763                      9   01/06/2018   \n",
       "3              M            23  10316                     55   01/06/2018   \n",
       "4              M            23  15304                    139   01/06/2018   \n",
       "\n",
       "  Hora_Retiro  Ciclo_Estacion_Arribo Fecha_Arribo Hora_Arribo  \n",
       "0     0:00:11                    133   01/06/2018     0:18:39  \n",
       "1     0:00:31                     52   01/06/2018     0:08:16  \n",
       "2     0:00:45                      9   01/06/2018     0:42:43  \n",
       "3     0:00:52                    111   01/06/2018     0:13:29  \n",
       "4     0:00:57                    155   01/06/2018     0:19:33  "
      ]
     },
     "execution_count": 4,
     "metadata": {},
     "output_type": "execute_result"
    }
   ],
   "source": [
    "viajes.head()"
   ]
  },
  {
   "cell_type": "code",
   "execution_count": 9,
   "metadata": {
    "collapsed": true
   },
   "outputs": [],
   "source": [
    "from datetime import datetime"
   ]
  },
  {
   "cell_type": "code",
   "execution_count": 29,
   "metadata": {
    "collapsed": true
   },
   "outputs": [],
   "source": [
    "# concatenar Hora_Retiro y Fecha_Retiro\n",
    "viajes.fecha_hora_retiro = viajes.Fecha_Retiro+' '+viajes.Hora_Retiro"
   ]
  },
  {
   "cell_type": "code",
   "execution_count": 102,
   "metadata": {},
   "outputs": [],
   "source": [
    "# convertir fecha y hora a datetime\n",
    "viajes.fecha_hora_retiro.head()\n",
    "\n",
    "def convierte_fecha(str_fecha_hora):\n",
    "    return datetime.strptime(str_fecha_hora, '%d/%m/%Y %H:%M:%S')\n",
    "\n",
    "viajes.datetime = viajes.fecha_hora_retiro.map(convierte_fecha)"
   ]
  },
  {
   "cell_type": "code",
   "execution_count": 126,
   "metadata": {},
   "outputs": [],
   "source": [
    "# extraer dia de la semana\n",
    "def dia_de_semana(datetime_obj):\n",
    "    dia_numero = datetime_obj.weekday()\n",
    "    if dia_numero == 0:\n",
    "        return 'Lunes'\n",
    "    elif dia_numero == 1:\n",
    "        return 'Martes'\n",
    "    elif dia_numero == 2:\n",
    "        return 'Miercoles'\n",
    "    elif dia_numero == 3:\n",
    "        return 'Jueves'\n",
    "    elif dia_numero == 4:\n",
    "        return 'Viernes'\n",
    "    elif dia_numero == 5:\n",
    "        return 'Sabado'\n",
    "    elif dia_numero == 6:\n",
    "        return 'Domingo'\n",
    "viajes['dia_semana'] = viajes.datetime.map(dia_de_semana)"
   ]
  },
  {
   "cell_type": "code",
   "execution_count": 128,
   "metadata": {},
   "outputs": [],
   "source": [
    "# extraer la hora\n",
    "viajes['hora'] = viajes.datetime.map(lambda x : x.hour)"
   ]
  },
  {
   "cell_type": "code",
   "execution_count": 129,
   "metadata": {},
   "outputs": [
    {
     "data": {
      "text/plain": [
       "dia_semana  hora\n",
       "Domingo     0        335\n",
       "            5        154\n",
       "            6        462\n",
       "            7        851\n",
       "            8       1695\n",
       "Name: Bici, dtype: int64"
      ]
     },
     "execution_count": 129,
     "metadata": {},
     "output_type": "execute_result"
    }
   ],
   "source": [
    "# agrupar por dia y hora y tomar el conteo (en teoria esta es la tabla final)\n",
    "viajes_clean = viajes.groupby(['dia_semana','hora']).Bici.count()\n",
    "viajes_clean.head()\n",
    "# viajes_clean.to_csv('viajes_clean.csv')\n",
    "# viajes_clean.head()"
   ]
  },
  {
   "cell_type": "code",
   "execution_count": 130,
   "metadata": {},
   "outputs": [
    {
     "data": {
      "image/png": "[encoded data removed]",
      "text/plain": [
       "<matplotlib.figure.Figure at 0x22d1aa848d0>"
      ]
     },
     "metadata": {},
     "output_type": "display_data"
    }
   ],
   "source": [
    "viajes_clean.plot()\n",
    "plt.show()"
   ]
  },
  {
   "cell_type": "code",
   "execution_count": null,
   "metadata": {
    "collapsed": true
   },
   "outputs": [],
   "source": []
  }
 ],
 "metadata": {
  "kernelspec": {
   "display_name": "Python 3",
   "language": "python",
   "name": "python3"
  },
  "language_info": {
   "codemirror_mode": {
    "name": "ipython",
    "version": 3
   },
   "file_extension": ".py",
   "mimetype": "text/x-python",
   "name": "python",
   "nbconvert_exporter": "python",
   "pygments_lexer": "ipython3",
   "version": "3.6.1"
  }
 },
 "nbformat": 4,
 "nbformat_minor": 2
}
