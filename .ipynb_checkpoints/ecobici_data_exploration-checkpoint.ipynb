{
 "cells": [
  {
   "cell_type": "markdown",
   "metadata": {},
   "source": [
    "# Ecobicis Data Analysis\n",
    "\n",
    "Las ecobicis estan en la Ciudad de México. Página https://www.ecobici.cdmx.gob.mx/\n",
    "\n",
    "Afortunadamente los datos están limpios y listo para el análisis. Gracias a quier así lo hizo.\n",
    "\n",
    "El primer paso es un **anális exploratorio** de los datos. En este caso veremos:\n",
    "* El porcentaje de hombres/mujeres en los viajes de ecobici\n",
    "* Las edades usuarios asociados  a los viajes de ecobici\n",
    "* El uso por edad y generos\n",
    "* Estudio de los retiros de bicis\n",
    "    * Estaciones mas utilizadas para retiros\n",
    "    * Horarios con mayores de retiros (PENDIENTE)\n",
    "    * Días de la semana con más retiros (PENDIENTE)\n",
    "* Estudio de los arribos se deja como ejercicio al lector"
   ]
  },
  {
   "cell_type": "markdown",
   "metadata": {},
   "source": [
    "## Importando módulos y leyendo datos"
   ]
  },
  {
   "cell_type": "code",
   "execution_count": 92,
   "metadata": {},
   "outputs": [],
   "source": [
    "import pandas as pd\n",
    "import matplotlib.pyplot as plt\n",
    "import seaborn as sns\n",
    "sns.set_style(\"darkgrid\")"
   ]
  },
  {
   "cell_type": "code",
   "execution_count": 43,
   "metadata": {
    "collapsed": true
   },
   "outputs": [],
   "source": [
    "# Leyendo los datos\n",
    "estaciones = pd.read_csv('ecobiciestaciones.csv')\n",
    "viajes = pd.read_csv('2018-06.csv')"
   ]
  },
  {
   "cell_type": "markdown",
   "metadata": {},
   "source": [
    "## Primera ojeada a los datos"
   ]
  },
  {
   "cell_type": "code",
   "execution_count": 44,
   "metadata": {
    "scrolled": true
   },
   "outputs": [
    {
     "name": "stdout",
     "output_type": "stream",
     "text": [
      "## estaciones ##\n",
      "   id            principal           secundario referencia     colonia  \\\n",
      "0   1           Río Balsas             Río Sena        NaN  Cuauhtémoc   \n",
      "1   2     Río Guadalquivir           Río Balsas        NaN  Cuauhtémoc   \n",
      "2   3  Paseo de la Reforma  Avenida Insurgentes        NaN  Tabacalera   \n",
      "3   4             Río Nilo           Río Panuco        NaN  Cuauhtémoc   \n",
      "4   5           Río Panuco            Río Tiber        NaN  Cuauhtémoc   \n",
      "\n",
      "   delegacion  longitud   latitud                                   nombre  \n",
      "0  Cuauhtémoc -99.16848  19.43293                      Río Balsas-Río Sena  \n",
      "1  Cuauhtémoc -99.17151  19.43159              Río Guadalquivir-Río Balsas  \n",
      "2  Cuauhtémoc -99.15875  19.43166  Paseo de la Reforma-Avenida Insurgentes  \n",
      "3  Cuauhtémoc -99.17169  19.42849                      Río Nilo-Río Panuco  \n",
      "4  Cuauhtémoc -99.16945  19.42980                     Río Panuco-Río Tiber  \n",
      "## viajes ##\n",
      "  Genero_Usuario  Edad_Usuario   Bici  Ciclo_Estacion_Retiro Fecha_Retiro  \\\n",
      "0              M            31   8871                    170   01/06/2018   \n",
      "1              M            37  10700                    123   01/06/2018   \n",
      "2              M            43   6763                      9   01/06/2018   \n",
      "3              M            23  10316                     55   01/06/2018   \n",
      "4              M            23  15304                    139   01/06/2018   \n",
      "\n",
      "  Hora_Retiro  Ciclo_Estacion_Arribo Fecha_Arribo Hora_Arribo  \n",
      "0     0:00:11                    133   01/06/2018     0:18:39  \n",
      "1     0:00:31                     52   01/06/2018     0:08:16  \n",
      "2     0:00:45                      9   01/06/2018     0:42:43  \n",
      "3     0:00:52                    111   01/06/2018     0:13:29  \n",
      "4     0:00:57                    155   01/06/2018     0:19:33  \n"
     ]
    }
   ],
   "source": [
    "print('## estaciones ##')\n",
    "print(estaciones.head())\n",
    "print('## viajes ##')\n",
    "print(viajes.head())"
   ]
  },
  {
   "cell_type": "markdown",
   "metadata": {},
   "source": [
    "## Explorando uso de ecobicis por genero"
   ]
  },
  {
   "cell_type": "code",
   "execution_count": 93,
   "metadata": {},
   "outputs": [
    {
     "name": "stdout",
     "output_type": "stream",
     "text": [
      "col_0               count\n",
      "Genero_Usuario           \n",
      "F               25.209492\n",
      "M               74.790508\n"
     ]
    },
    {
     "data": {
      "image/png": "[encoded data removed]",
      "text/plain": [
       "<matplotlib.figure.Figure at 0x1b11f2cc4e0>"
      ]
     },
     "metadata": {},
     "output_type": "display_data"
    }
   ],
   "source": [
    "n = viajes.shape[0]\n",
    "genero = pd.crosstab(index = viajes.Genero_Usuario, columns = \"count\")/n *100\n",
    "print(genero.head())\n",
    "sns.barplot(x=genero.index,y=genero['count'])\n",
    "plt.title('Usuarios de Ecobici')\n",
    "plt.ylabel('Porcentaje')\n",
    "plt.xlabel('Genero de usuarios')\n",
    "plt.show()"
   ]
  },
  {
   "cell_type": "markdown",
   "metadata": {},
   "source": [
    "## Explorando uso de ecobicis por edad"
   ]
  },
  {
   "cell_type": "code",
   "execution_count": 118,
   "metadata": {},
   "outputs": [
    {
     "data": {
      "image/png": "[encoded data removed]",
      "text/plain": [
       "<matplotlib.figure.Figure at 0x1b11f10d0b8>"
      ]
     },
     "metadata": {},
     "output_type": "display_data"
    }
   ],
   "source": [
    "pd.crosstab(index = viajes.Edad_Usuario, columns = \"count\",margins=True)/n*100\n",
    "def clase_edad(x):\n",
    "    if x <= 20:\n",
    "        return('0-20')\n",
    "    elif x <= 30:\n",
    "        return('21-30')\n",
    "    elif x <= 40:\n",
    "        return('31-40')\n",
    "    elif x <= 50:\n",
    "        return('41-50')\n",
    "    elif x <= 60:\n",
    "        return('51-60')\n",
    "    elif x <= 70:\n",
    "        return('61-70')\n",
    "    elif x <= 80:\n",
    "        return('71-80')\n",
    "    elif x <= 90:\n",
    "        return('81-90')\n",
    "    else:\n",
    "        return('91+')\n",
    "    \n",
    "viajes.Clase_Edad = viajes.Edad_Usuario.apply(clase_edad)\n",
    "edad = pd.crosstab(index = viajes.Clase_Edad, columns = \"count\")\n",
    "sns.barplot(x=edad.index,y=edad['count'],color='lightblue')\n",
    "plt.title('Usuarios de Ecobici')\n",
    "plt.ylabel('Porcentaje')\n",
    "plt.xlabel('Edades de usuarios')\n",
    "plt.show()"
   ]
  },
  {
   "cell_type": "markdown",
   "metadata": {},
   "source": [
    "## Explorando por edad y genero"
   ]
  },
  {
   "cell_type": "code",
   "execution_count": 193,
   "metadata": {},
   "outputs": [
    {
     "name": "stdout",
     "output_type": "stream",
     "text": [
      "Edad_Usuario        0-20      21-30      31-40      41-50     51-60     61-70  \\\n",
      "Genero_Usuario                                                                  \n",
      "F               0.412826  12.376380   8.013667   2.699672  1.346141  0.330087   \n",
      "M               1.283978  28.384008  25.528132  11.739391  5.855930  1.757663   \n",
      "\n",
      "Edad_Usuario       71-80     81-90       91+  \n",
      "Genero_Usuario                                \n",
      "F               0.030574  0.000000  0.000145  \n",
      "M               0.232278  0.002898  0.006231  \n"
     ]
    },
    {
     "data": {
      "image/png": "[encoded data removed]",
      "text/plain": [
       "<matplotlib.figure.Figure at 0x1b11f0e3860>"
      ]
     },
     "metadata": {},
     "output_type": "display_data"
    }
   ],
   "source": [
    "edad_genero = pd.crosstab(viajes.Genero_Usuario,viajes.Clase_Edad,margins=False)/n*100\n",
    "print(edad_genero)\n",
    "sns.heatmap(edad_genero)\n",
    "plt.title('Usuarios de Ecobici')\n",
    "plt.ylabel('Genero')\n",
    "plt.xlabel('Edades de usuarios')\n",
    "plt.show()"
   ]
  },
  {
   "cell_type": "code",
   "execution_count": 241,
   "metadata": {},
   "outputs": [
    {
     "name": "stdout",
     "output_type": "stream",
     "text": [
      "Edad_Usuario    0-20   21-30   31-40  41-50  51-60  61-70  71-80  81-90  91+\n",
      "Genero_Usuario                                                              \n",
      "F               2849   85412   55304  18631   9290   2278    211      0    1\n",
      "M               8861  195884  176175  81016  40413  12130   1603     20   43\n"
     ]
    },
    {
     "data": {
      "image/png": "[encoded data removed]",
      "text/plain": [
       "<matplotlib.figure.Figure at 0x1b11e4312e8>"
      ]
     },
     "metadata": {},
     "output_type": "display_data"
    }
   ],
   "source": [
    "edad_genero_conteo = pd.crosstab(viajes.Genero_Usuario,viajes.Clase_Edad,margins=False)\n",
    "print(edad_genero_conteo)\n",
    "\n",
    "ind = [20,30,40,50,60,70,80,90,100]\n",
    "mujer = edad_genero_conteo.iloc[0]\n",
    "hombre = edad_genero_conteo.iloc[1]\n",
    "width = 5\n",
    "\n",
    "p1 = plt.bar(ind, hombre, width)\n",
    "p2 = plt.bar(ind, mujer, width,\n",
    "             bottom=hombre)\n",
    "\n",
    "plt.legend((p1[0], p2[0]), ('Hombre', 'Mujer'))\n",
    "plt.show()"
   ]
  },
  {
   "cell_type": "code",
   "execution_count": 254,
   "metadata": {},
   "outputs": [
    {
     "data": {
      "image/png": "[encoded data removed]",
      "text/plain": [
       "<matplotlib.figure.Figure at 0x1b122610048>"
      ]
     },
     "metadata": {},
     "output_type": "display_data"
    }
   ],
   "source": [
    "edad_genero_perc = pd.crosstab(viajes.Genero_Usuario,viajes.Clase_Edad,margins=True)\n",
    "\n",
    "ind = [20,30,40,50,60,70,80,90,100]\n",
    "mujer_perc = (edad_genero_perc.iloc[0]/edad_genero_perc.iloc[2])[0:9]\n",
    "hombre_perc = (edad_genero_perc.iloc[1]/edad_genero_perc.iloc[2])[0:9]\n",
    "width = 5\n",
    "\n",
    "p1_perc = plt.bar(ind, hombre_perc, width)\n",
    "p2_perc = plt.bar(ind, mujer_perc, width,\n",
    "             bottom=hombre_perc)\n",
    "\n",
    "plt.legend((p1_perc[0], p2_perc[0]), ('Hombre', 'Mujer'),loc='upper center',bbox_to_anchor=(0.5, -0.05),ncol=2)\n",
    "# plt.set_ylim(0,1)\n",
    "plt.show()"
   ]
  },
  {
   "cell_type": "markdown",
   "metadata": {},
   "source": [
    "## Calculando estaciones de mayor retiro"
   ]
  },
  {
   "cell_type": "code",
   "execution_count": 221,
   "metadata": {},
   "outputs": [
    {
     "data": {
      "text/html": [
       "<div>\n",
       "<style>\n",
       "    .dataframe thead tr:only-child th {\n",
       "        text-align: right;\n",
       "    }\n",
       "\n",
       "    .dataframe thead th {\n",
       "        text-align: left;\n",
       "    }\n",
       "\n",
       "    .dataframe tbody tr th {\n",
       "        vertical-align: top;\n",
       "    }\n",
       "</style>\n",
       "<table border=\"1\" class=\"dataframe\">\n",
       "  <thead>\n",
       "    <tr style=\"text-align: right;\">\n",
       "      <th></th>\n",
       "      <th>id</th>\n",
       "      <th>nombre</th>\n",
       "      <th>colonia</th>\n",
       "      <th>delegacion</th>\n",
       "      <th>longitud</th>\n",
       "      <th>latitud</th>\n",
       "      <th>count</th>\n",
       "    </tr>\n",
       "  </thead>\n",
       "  <tbody>\n",
       "    <tr>\n",
       "      <th>263</th>\n",
       "      <td>271</td>\n",
       "      <td>Carlos J. Meneses-Av. Jesús García</td>\n",
       "      <td>Buenavista</td>\n",
       "      <td>Cuauhtémoc</td>\n",
       "      <td>-99.152894</td>\n",
       "      <td>19.444244</td>\n",
       "      <td>7905</td>\n",
       "    </tr>\n",
       "    <tr>\n",
       "      <th>26</th>\n",
       "      <td>27</td>\n",
       "      <td>Paseo de la Reforma-Havre</td>\n",
       "      <td>Juárez</td>\n",
       "      <td>Cuauhtémoc</td>\n",
       "      <td>-99.162700</td>\n",
       "      <td>19.429160</td>\n",
       "      <td>6577</td>\n",
       "    </tr>\n",
       "    <tr>\n",
       "      <th>0</th>\n",
       "      <td>1</td>\n",
       "      <td>Río Balsas-Río Sena</td>\n",
       "      <td>Cuauhtémoc</td>\n",
       "      <td>Cuauhtémoc</td>\n",
       "      <td>-99.168480</td>\n",
       "      <td>19.432930</td>\n",
       "      <td>6461</td>\n",
       "    </tr>\n",
       "    <tr>\n",
       "      <th>35</th>\n",
       "      <td>36</td>\n",
       "      <td>Puebla-Veracruz</td>\n",
       "      <td>Roma Norte</td>\n",
       "      <td>Cuauhtémoc</td>\n",
       "      <td>-99.175880</td>\n",
       "      <td>19.419660</td>\n",
       "      <td>5256</td>\n",
       "    </tr>\n",
       "    <tr>\n",
       "      <th>179</th>\n",
       "      <td>182</td>\n",
       "      <td>Nuevo. León-Insurgentes Sur</td>\n",
       "      <td>Hipódromo</td>\n",
       "      <td>Cuauhtémoc</td>\n",
       "      <td>-99.170466</td>\n",
       "      <td>19.400665</td>\n",
       "      <td>5045</td>\n",
       "    </tr>\n",
       "  </tbody>\n",
       "</table>\n",
       "</div>"
      ],
      "text/plain": [
       "      id                              nombre     colonia  delegacion  \\\n",
       "263  271  Carlos J. Meneses-Av. Jesús García  Buenavista  Cuauhtémoc   \n",
       "26    27           Paseo de la Reforma-Havre      Juárez  Cuauhtémoc   \n",
       "0      1                 Río Balsas-Río Sena  Cuauhtémoc  Cuauhtémoc   \n",
       "35    36                     Puebla-Veracruz  Roma Norte  Cuauhtémoc   \n",
       "179  182         Nuevo. León-Insurgentes Sur   Hipódromo  Cuauhtémoc   \n",
       "\n",
       "      longitud    latitud  count  \n",
       "263 -99.152894  19.444244   7905  \n",
       "26  -99.162700  19.429160   6577  \n",
       "0   -99.168480  19.432930   6461  \n",
       "35  -99.175880  19.419660   5256  \n",
       "179 -99.170466  19.400665   5045  "
      ]
     },
     "execution_count": 221,
     "metadata": {},
     "output_type": "execute_result"
    }
   ],
   "source": [
    "# calculando estaciones de donde mas se retira\n",
    "retiro = pd.crosstab(index = viajes.Ciclo_Estacion_Retiro, columns = 'count')\n",
    "\n",
    "# pipeline para obtener estaciones de donde mas se retiran bicis\n",
    "top_estaciones_retiro = (\n",
    "    # uniendo con informacion de estaciones\n",
    "    pd.merge(retiro,estaciones,left_index=True,right_on='id')\n",
    "    \n",
    "    # seleccionando las columnas deseadas\n",
    "    [['id','nombre','colonia','delegacion','longitud','latitud','count']]\n",
    "    \n",
    "    # odernando y mostrando primeros valores\n",
    "    .sort_values(['count'],ascending=False)\n",
    "    \n",
    "    # seleccionando el top 5\n",
    "    .head(5)\n",
    ")\n",
    "top_estaciones_retiro"
   ]
  },
  {
   "cell_type": "code",
   "execution_count": null,
   "metadata": {
    "collapsed": true
   },
   "outputs": [],
   "source": []
  },
  {
   "cell_type": "code",
   "execution_count": 180,
   "metadata": {},
   "outputs": [
    {
     "data": {
      "text/html": [
       "<div>\n",
       "<style>\n",
       "    .dataframe thead tr:only-child th {\n",
       "        text-align: right;\n",
       "    }\n",
       "\n",
       "    .dataframe thead th {\n",
       "        text-align: left;\n",
       "    }\n",
       "\n",
       "    .dataframe tbody tr th {\n",
       "        vertical-align: top;\n",
       "    }\n",
       "</style>\n",
       "<table border=\"1\" class=\"dataframe\">\n",
       "  <thead>\n",
       "    <tr style=\"text-align: right;\">\n",
       "      <th></th>\n",
       "      <th>id</th>\n",
       "      <th>nombre</th>\n",
       "      <th>colonia</th>\n",
       "      <th>delegacion</th>\n",
       "      <th>longitud</th>\n",
       "      <th>latitud</th>\n",
       "      <th>count</th>\n",
       "    </tr>\n",
       "  </thead>\n",
       "  <tbody>\n",
       "    <tr>\n",
       "      <th>26</th>\n",
       "      <td>27</td>\n",
       "      <td>Paseo de la Reforma-Havre</td>\n",
       "      <td>Juárez</td>\n",
       "      <td>Cuauhtémoc</td>\n",
       "      <td>-99.162700</td>\n",
       "      <td>19.429160</td>\n",
       "      <td>7053</td>\n",
       "    </tr>\n",
       "    <tr>\n",
       "      <th>0</th>\n",
       "      <td>1</td>\n",
       "      <td>Río Balsas-Río Sena</td>\n",
       "      <td>Cuauhtémoc</td>\n",
       "      <td>Cuauhtémoc</td>\n",
       "      <td>-99.168480</td>\n",
       "      <td>19.432930</td>\n",
       "      <td>6648</td>\n",
       "    </tr>\n",
       "    <tr>\n",
       "      <th>35</th>\n",
       "      <td>36</td>\n",
       "      <td>Puebla-Veracruz</td>\n",
       "      <td>Roma Norte</td>\n",
       "      <td>Cuauhtémoc</td>\n",
       "      <td>-99.175880</td>\n",
       "      <td>19.419660</td>\n",
       "      <td>5371</td>\n",
       "    </tr>\n",
       "    <tr>\n",
       "      <th>179</th>\n",
       "      <td>182</td>\n",
       "      <td>Nuevo. León-Insurgentes Sur</td>\n",
       "      <td>Hipódromo</td>\n",
       "      <td>Cuauhtémoc</td>\n",
       "      <td>-99.170466</td>\n",
       "      <td>19.400665</td>\n",
       "      <td>5252</td>\n",
       "    </tr>\n",
       "    <tr>\n",
       "      <th>263</th>\n",
       "      <td>271</td>\n",
       "      <td>Carlos J. Meneses-Av. Jesús García</td>\n",
       "      <td>Buenavista</td>\n",
       "      <td>Cuauhtémoc</td>\n",
       "      <td>-99.152894</td>\n",
       "      <td>19.444244</td>\n",
       "      <td>5206</td>\n",
       "    </tr>\n",
       "    <tr>\n",
       "      <th>13</th>\n",
       "      <td>14</td>\n",
       "      <td>Paseo de la Reforma-Río de la Plata</td>\n",
       "      <td>Cuauhtémoc</td>\n",
       "      <td>Cuauhtémoc</td>\n",
       "      <td>-99.173250</td>\n",
       "      <td>19.424540</td>\n",
       "      <td>5023</td>\n",
       "    </tr>\n",
       "    <tr>\n",
       "      <th>17</th>\n",
       "      <td>18</td>\n",
       "      <td>Paseo de la Reforma-Río Sena</td>\n",
       "      <td>Cuauhtémoc</td>\n",
       "      <td>Cuauhtémoc</td>\n",
       "      <td>-99.165250</td>\n",
       "      <td>19.428320</td>\n",
       "      <td>5002</td>\n",
       "    </tr>\n",
       "    <tr>\n",
       "      <th>46</th>\n",
       "      <td>47</td>\n",
       "      <td>Plaza Madrid-Oaxaca</td>\n",
       "      <td>Roma Norte</td>\n",
       "      <td>Cuauhtémoc</td>\n",
       "      <td>-99.166270</td>\n",
       "      <td>19.419710</td>\n",
       "      <td>4527</td>\n",
       "    </tr>\n",
       "    <tr>\n",
       "      <th>214</th>\n",
       "      <td>217</td>\n",
       "      <td>Euler-Av. Horacio</td>\n",
       "      <td>Polanco</td>\n",
       "      <td>Miguel Hidalgo</td>\n",
       "      <td>-99.183605</td>\n",
       "      <td>19.432888</td>\n",
       "      <td>4474</td>\n",
       "    </tr>\n",
       "    <tr>\n",
       "      <th>63</th>\n",
       "      <td>64</td>\n",
       "      <td>Sonora-Amsterdam</td>\n",
       "      <td>Hipódromo</td>\n",
       "      <td>Cuauhtémoc</td>\n",
       "      <td>-99.166940</td>\n",
       "      <td>19.412980</td>\n",
       "      <td>4324</td>\n",
       "    </tr>\n",
       "  </tbody>\n",
       "</table>\n",
       "</div>"
      ],
      "text/plain": [
       "      id                               nombre     colonia      delegacion  \\\n",
       "26    27            Paseo de la Reforma-Havre      Juárez      Cuauhtémoc   \n",
       "0      1                  Río Balsas-Río Sena  Cuauhtémoc      Cuauhtémoc   \n",
       "35    36                      Puebla-Veracruz  Roma Norte      Cuauhtémoc   \n",
       "179  182          Nuevo. León-Insurgentes Sur   Hipódromo      Cuauhtémoc   \n",
       "263  271   Carlos J. Meneses-Av. Jesús García  Buenavista      Cuauhtémoc   \n",
       "13    14  Paseo de la Reforma-Río de la Plata  Cuauhtémoc      Cuauhtémoc   \n",
       "17    18         Paseo de la Reforma-Río Sena  Cuauhtémoc      Cuauhtémoc   \n",
       "46    47                  Plaza Madrid-Oaxaca  Roma Norte      Cuauhtémoc   \n",
       "214  217                    Euler-Av. Horacio     Polanco  Miguel Hidalgo   \n",
       "63    64                     Sonora-Amsterdam   Hipódromo      Cuauhtémoc   \n",
       "\n",
       "      longitud    latitud  count  \n",
       "26  -99.162700  19.429160   7053  \n",
       "0   -99.168480  19.432930   6648  \n",
       "35  -99.175880  19.419660   5371  \n",
       "179 -99.170466  19.400665   5252  \n",
       "263 -99.152894  19.444244   5206  \n",
       "13  -99.173250  19.424540   5023  \n",
       "17  -99.165250  19.428320   5002  \n",
       "46  -99.166270  19.419710   4527  \n",
       "214 -99.183605  19.432888   4474  \n",
       "63  -99.166940  19.412980   4324  "
      ]
     },
     "execution_count": 180,
     "metadata": {},
     "output_type": "execute_result"
    }
   ],
   "source": [
    "# calculando estaciones de donde mas arriban bicis\n",
    "arribo = pd.crosstab(index = viajes.Ciclo_Estacion_Arribo, columns = 'count')\n",
    "\n",
    "# pipeline para obtener estaciones de donde mas arriban bicis\n",
    "top_estaciones_arribo = (\n",
    "    # uniendo con informacion de estaciones\n",
    "    pd.merge(arribo,estaciones,left_index=True,right_on='id')\n",
    "    \n",
    "    # seleccionando las columnas deseadas\n",
    "    [['id','nombre','colonia','delegacion','longitud','latitud','count']]\n",
    "    \n",
    "    # odernando y mostrando primeros valores\n",
    "    .sort_values(['count'],ascending=False)\n",
    "    \n",
    "    # seleccionando el top 5\n",
    "    .head(5)\n",
    ")\n",
    "top_estaciones_arribo"
   ]
  }
 ],
 "metadata": {
  "kernelspec": {
   "display_name": "Python 3",
   "language": "python",
   "name": "python3"
  },
  "language_info": {
   "codemirror_mode": {
    "name": "ipython",
    "version": 3
   },
   "file_extension": ".py",
   "mimetype": "text/x-python",
   "name": "python",
   "nbconvert_exporter": "python",
   "pygments_lexer": "ipython3",
   "version": "3.6.1"
  }
 },
 "nbformat": 4,
 "nbformat_minor": 2
}
