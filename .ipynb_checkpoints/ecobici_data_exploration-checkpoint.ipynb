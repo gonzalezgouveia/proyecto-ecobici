{
 "cells": [
  {
   "cell_type": "markdown",
   "metadata": {},
   "source": [
    "# Análisis de datos de Ecobici\n",
    "\n",
    "Ecobici es el sistema de bicicletas públicas de la Ciudad de México. Es utilizado por habitantes de la capital, de sus alrededores y turistas como medio de transporte. Este servicio se presta en la CDMX desde 2010. Actualmente cuenta con más de 170 mil usuarios registrados, más de 6 mil 800 bicicletas y mas de 100 cicloestaciones distribuidad en 55 colonias de la ciudad. Fuente: https://www.ecobici.cdmx.gob.mx/es/informacion-del-servicio/que-es-ecobici\n",
    "\n",
    "<img src=\"ecobici1.jpg\" width=\"240\"> \n",
    "\n",
    "Utilizaremos dos tablas: una de los viajes que ocurrieron en junio de 2018 y otra con información de las estaciones. De cada viaje, se tiene información del genero y edad del usuario. Además, sabemos la fecha, hora y estación de retiro y arribo del viaje. \n",
    "\n",
    "<img src=\"tablas_ecobici.png\" width=\"360\">\n",
    "\n",
    "Con estos datos esperamos ilustrar tres objetivos:\n",
    "* Explorar: realizar conteos de viajes por genero y por edad\n",
    "* Preparar: procesar la tabla para modelar\n",
    "* Modelar: plantear modelo estadístico para predecir viajes por día y hora\n",
    "\n",
    "Los datos son abiertos al público y pueden descargarse en la dirección https://www.ecobici.cdmx.gob.mx/es/informacion-del-servicio/open-data\n",
    "\n",
    "Afortunadamente los datos están limpios y listos para el análisis. Gracias a quien así lo hizo.\n",
    "\n",
    "<img src=\"ecobici2.jpg\" width=\"240\">"
   ]
  },
  {
   "cell_type": "markdown",
   "metadata": {},
   "source": [
    "\n",
    "## Análisis exploratorio\n",
    "\n",
    "En el **anális exploratorio** veremos:\n",
    "* ¿Qué porcentaje de viajes son registrados por mujeres y por hombres?\n",
    "* ¿Cuántos viajes se registran por grupos de edades?\n",
    "* ¿Cuáles son las estaciones de donde más salen viajes?"
   ]
  },
  {
   "cell_type": "markdown",
   "metadata": {},
   "source": [
    "## Importando módulos y leyendo datos"
   ]
  },
  {
   "cell_type": "code",
   "execution_count": 2,
   "metadata": {
    "collapsed": true
   },
   "outputs": [],
   "source": [
    "import pandas as pd\n",
    "import matplotlib.pyplot as plt\n",
    "import seaborn as sns\n",
    "sns.set_style(\"darkgrid\") # estilo de salida de las gráficas"
   ]
  },
  {
   "cell_type": "code",
   "execution_count": 3,
   "metadata": {
    "collapsed": true
   },
   "outputs": [],
   "source": [
    "# Leyendo los datos\n",
    "estaciones = pd.read_csv('ecobiciestaciones.csv')\n",
    "viajes = pd.read_csv('2018-06.csv')"
   ]
  },
  {
   "cell_type": "markdown",
   "metadata": {},
   "source": [
    "## Primera ojeada a los datos"
   ]
  },
  {
   "cell_type": "markdown",
   "metadata": {},
   "source": [
    "Estaciones"
   ]
  },
  {
   "cell_type": "code",
   "execution_count": 6,
   "metadata": {},
   "outputs": [
    {
     "data": {
      "text/html": [
       "<div>\n",
       "<style>\n",
       "    .dataframe thead tr:only-child th {\n",
       "        text-align: right;\n",
       "    }\n",
       "\n",
       "    .dataframe thead th {\n",
       "        text-align: left;\n",
       "    }\n",
       "\n",
       "    .dataframe tbody tr th {\n",
       "        vertical-align: top;\n",
       "    }\n",
       "</style>\n",
       "<table border=\"1\" class=\"dataframe\">\n",
       "  <thead>\n",
       "    <tr style=\"text-align: right;\">\n",
       "      <th></th>\n",
       "      <th>Genero_Usuario</th>\n",
       "      <th>Edad_Usuario</th>\n",
       "      <th>Bici</th>\n",
       "      <th>Ciclo_Estacion_Retiro</th>\n",
       "      <th>Fecha_Retiro</th>\n",
       "      <th>Hora_Retiro</th>\n",
       "      <th>Ciclo_Estacion_Arribo</th>\n",
       "      <th>Fecha_Arribo</th>\n",
       "      <th>Hora_Arribo</th>\n",
       "    </tr>\n",
       "  </thead>\n",
       "  <tbody>\n",
       "    <tr>\n",
       "      <th>0</th>\n",
       "      <td>M</td>\n",
       "      <td>31</td>\n",
       "      <td>8871</td>\n",
       "      <td>170</td>\n",
       "      <td>01/06/2018</td>\n",
       "      <td>0:00:11</td>\n",
       "      <td>133</td>\n",
       "      <td>01/06/2018</td>\n",
       "      <td>0:18:39</td>\n",
       "    </tr>\n",
       "    <tr>\n",
       "      <th>1</th>\n",
       "      <td>M</td>\n",
       "      <td>37</td>\n",
       "      <td>10700</td>\n",
       "      <td>123</td>\n",
       "      <td>01/06/2018</td>\n",
       "      <td>0:00:31</td>\n",
       "      <td>52</td>\n",
       "      <td>01/06/2018</td>\n",
       "      <td>0:08:16</td>\n",
       "    </tr>\n",
       "    <tr>\n",
       "      <th>2</th>\n",
       "      <td>M</td>\n",
       "      <td>43</td>\n",
       "      <td>6763</td>\n",
       "      <td>9</td>\n",
       "      <td>01/06/2018</td>\n",
       "      <td>0:00:45</td>\n",
       "      <td>9</td>\n",
       "      <td>01/06/2018</td>\n",
       "      <td>0:42:43</td>\n",
       "    </tr>\n",
       "    <tr>\n",
       "      <th>3</th>\n",
       "      <td>M</td>\n",
       "      <td>23</td>\n",
       "      <td>10316</td>\n",
       "      <td>55</td>\n",
       "      <td>01/06/2018</td>\n",
       "      <td>0:00:52</td>\n",
       "      <td>111</td>\n",
       "      <td>01/06/2018</td>\n",
       "      <td>0:13:29</td>\n",
       "    </tr>\n",
       "    <tr>\n",
       "      <th>4</th>\n",
       "      <td>M</td>\n",
       "      <td>23</td>\n",
       "      <td>15304</td>\n",
       "      <td>139</td>\n",
       "      <td>01/06/2018</td>\n",
       "      <td>0:00:57</td>\n",
       "      <td>155</td>\n",
       "      <td>01/06/2018</td>\n",
       "      <td>0:19:33</td>\n",
       "    </tr>\n",
       "  </tbody>\n",
       "</table>\n",
       "</div>"
      ],
      "text/plain": [
       "  Genero_Usuario  Edad_Usuario   Bici  Ciclo_Estacion_Retiro Fecha_Retiro  \\\n",
       "0              M            31   8871                    170   01/06/2018   \n",
       "1              M            37  10700                    123   01/06/2018   \n",
       "2              M            43   6763                      9   01/06/2018   \n",
       "3              M            23  10316                     55   01/06/2018   \n",
       "4              M            23  15304                    139   01/06/2018   \n",
       "\n",
       "  Hora_Retiro  Ciclo_Estacion_Arribo Fecha_Arribo Hora_Arribo  \n",
       "0     0:00:11                    133   01/06/2018     0:18:39  \n",
       "1     0:00:31                     52   01/06/2018     0:08:16  \n",
       "2     0:00:45                      9   01/06/2018     0:42:43  \n",
       "3     0:00:52                    111   01/06/2018     0:13:29  \n",
       "4     0:00:57                    155   01/06/2018     0:19:33  "
      ]
     },
     "execution_count": 6,
     "metadata": {},
     "output_type": "execute_result"
    }
   ],
   "source": [
    "viajes.head()"
   ]
  },
  {
   "cell_type": "markdown",
   "metadata": {},
   "source": [
    "Viajes"
   ]
  },
  {
   "cell_type": "code",
   "execution_count": 7,
   "metadata": {},
   "outputs": [
    {
     "data": {
      "text/html": [
       "<div>\n",
       "<style>\n",
       "    .dataframe thead tr:only-child th {\n",
       "        text-align: right;\n",
       "    }\n",
       "\n",
       "    .dataframe thead th {\n",
       "        text-align: left;\n",
       "    }\n",
       "\n",
       "    .dataframe tbody tr th {\n",
       "        vertical-align: top;\n",
       "    }\n",
       "</style>\n",
       "<table border=\"1\" class=\"dataframe\">\n",
       "  <thead>\n",
       "    <tr style=\"text-align: right;\">\n",
       "      <th></th>\n",
       "      <th>id</th>\n",
       "      <th>principal</th>\n",
       "      <th>secundario</th>\n",
       "      <th>referencia</th>\n",
       "      <th>colonia</th>\n",
       "      <th>delegacion</th>\n",
       "      <th>longitud</th>\n",
       "      <th>latitud</th>\n",
       "      <th>nombre</th>\n",
       "    </tr>\n",
       "  </thead>\n",
       "  <tbody>\n",
       "    <tr>\n",
       "      <th>0</th>\n",
       "      <td>1</td>\n",
       "      <td>Río Balsas</td>\n",
       "      <td>Río Sena</td>\n",
       "      <td>NaN</td>\n",
       "      <td>Cuauhtémoc</td>\n",
       "      <td>Cuauhtémoc</td>\n",
       "      <td>-99.16848</td>\n",
       "      <td>19.43293</td>\n",
       "      <td>Río Balsas-Río Sena</td>\n",
       "    </tr>\n",
       "    <tr>\n",
       "      <th>1</th>\n",
       "      <td>2</td>\n",
       "      <td>Río Guadalquivir</td>\n",
       "      <td>Río Balsas</td>\n",
       "      <td>NaN</td>\n",
       "      <td>Cuauhtémoc</td>\n",
       "      <td>Cuauhtémoc</td>\n",
       "      <td>-99.17151</td>\n",
       "      <td>19.43159</td>\n",
       "      <td>Río Guadalquivir-Río Balsas</td>\n",
       "    </tr>\n",
       "    <tr>\n",
       "      <th>2</th>\n",
       "      <td>3</td>\n",
       "      <td>Paseo de la Reforma</td>\n",
       "      <td>Avenida Insurgentes</td>\n",
       "      <td>NaN</td>\n",
       "      <td>Tabacalera</td>\n",
       "      <td>Cuauhtémoc</td>\n",
       "      <td>-99.15875</td>\n",
       "      <td>19.43166</td>\n",
       "      <td>Paseo de la Reforma-Avenida Insurgentes</td>\n",
       "    </tr>\n",
       "    <tr>\n",
       "      <th>3</th>\n",
       "      <td>4</td>\n",
       "      <td>Río Nilo</td>\n",
       "      <td>Río Panuco</td>\n",
       "      <td>NaN</td>\n",
       "      <td>Cuauhtémoc</td>\n",
       "      <td>Cuauhtémoc</td>\n",
       "      <td>-99.17169</td>\n",
       "      <td>19.42849</td>\n",
       "      <td>Río Nilo-Río Panuco</td>\n",
       "    </tr>\n",
       "    <tr>\n",
       "      <th>4</th>\n",
       "      <td>5</td>\n",
       "      <td>Río Panuco</td>\n",
       "      <td>Río Tiber</td>\n",
       "      <td>NaN</td>\n",
       "      <td>Cuauhtémoc</td>\n",
       "      <td>Cuauhtémoc</td>\n",
       "      <td>-99.16945</td>\n",
       "      <td>19.42980</td>\n",
       "      <td>Río Panuco-Río Tiber</td>\n",
       "    </tr>\n",
       "  </tbody>\n",
       "</table>\n",
       "</div>"
      ],
      "text/plain": [
       "   id            principal           secundario referencia     colonia  \\\n",
       "0   1           Río Balsas             Río Sena        NaN  Cuauhtémoc   \n",
       "1   2     Río Guadalquivir           Río Balsas        NaN  Cuauhtémoc   \n",
       "2   3  Paseo de la Reforma  Avenida Insurgentes        NaN  Tabacalera   \n",
       "3   4             Río Nilo           Río Panuco        NaN  Cuauhtémoc   \n",
       "4   5           Río Panuco            Río Tiber        NaN  Cuauhtémoc   \n",
       "\n",
       "   delegacion  longitud   latitud                                   nombre  \n",
       "0  Cuauhtémoc -99.16848  19.43293                      Río Balsas-Río Sena  \n",
       "1  Cuauhtémoc -99.17151  19.43159              Río Guadalquivir-Río Balsas  \n",
       "2  Cuauhtémoc -99.15875  19.43166  Paseo de la Reforma-Avenida Insurgentes  \n",
       "3  Cuauhtémoc -99.17169  19.42849                      Río Nilo-Río Panuco  \n",
       "4  Cuauhtémoc -99.16945  19.42980                     Río Panuco-Río Tiber  "
      ]
     },
     "execution_count": 7,
     "metadata": {},
     "output_type": "execute_result"
    }
   ],
   "source": [
    "estaciones.head()"
   ]
  },
  {
   "cell_type": "markdown",
   "metadata": {},
   "source": [
    "#### La tabla de estaciones puede usarse para obtener información extra de los viajes"
   ]
  },
  {
   "cell_type": "markdown",
   "metadata": {},
   "source": [
    "## ¿Cuántos viajes se realizaron en junio de 2018?"
   ]
  },
  {
   "cell_type": "code",
   "execution_count": 11,
   "metadata": {},
   "outputs": [
    {
     "name": "stdout",
     "output_type": "stream",
     "text": [
      "total de viajes junio 2018:  690121\n"
     ]
    }
   ],
   "source": [
    "n = viajes.shape[0] # shape[0] cantidad de observaciones. shape[1] cantidad de variables\n",
    "print('total de viajes junio 2018: ',n)"
   ]
  },
  {
   "cell_type": "markdown",
   "metadata": {},
   "source": [
    "## ¿Qué porcentaje de viajes son registrados por mujeres y por hombres?"
   ]
  },
  {
   "cell_type": "code",
   "execution_count": 12,
   "metadata": {
    "scrolled": false
   },
   "outputs": [
    {
     "data": {
      "image/png": "[encoded data removed]",
      "text/plain": [
       "<matplotlib.figure.Figure at 0x1f7830515c0>"
      ]
     },
     "metadata": {},
     "output_type": "display_data"
    }
   ],
   "source": [
    "genero = pd.crosstab(index = viajes.Genero_Usuario, columns = \"count\")/n *100\n",
    "sns.barplot(x=genero.index,y=genero['count'])\n",
    "plt.title('Usuarios de Ecobici')\n",
    "plt.ylabel('Porcentaje')\n",
    "plt.xlabel('Genero de usuarios')\n",
    "plt.show()"
   ]
  },
  {
   "cell_type": "markdown",
   "metadata": {},
   "source": [
    "### Hay más usuarios activos hombres que mujeres en el uso de ecobici para junio de 2018"
   ]
  },
  {
   "cell_type": "markdown",
   "metadata": {},
   "source": [
    "## ¿Cuántos viajes se registran por grupos de edades?"
   ]
  },
  {
   "cell_type": "code",
   "execution_count": 15,
   "metadata": {
    "scrolled": true
   },
   "outputs": [
    {
     "data": {
      "image/png": "[encoded data removed]",
      "text/plain": [
       "<matplotlib.figure.Figure at 0x1f783414b00>"
      ]
     },
     "metadata": {},
     "output_type": "display_data"
    }
   ],
   "source": [
    "# creando clases para segmentos de edad\n",
    "# NOTA: si alguien sabe una mejor manera de hacer esto por favor me ayudar en los comentario.\n",
    "def clase_edad(x):\n",
    "    if x <= 20:\n",
    "        return('0-20')\n",
    "    elif x <= 30:\n",
    "        return('21-30')\n",
    "    elif x <= 40:\n",
    "        return('31-40')\n",
    "    elif x <= 50:\n",
    "        return('41-50')\n",
    "    elif x <= 60:\n",
    "        return('51-60')\n",
    "    elif x <= 70:\n",
    "        return('61-70')\n",
    "    elif x <= 80:\n",
    "        return('71-80')\n",
    "    elif x <= 90:\n",
    "        return('81-90')\n",
    "    else:\n",
    "        return('91+')\n",
    "    \n",
    "viajes.Clase_Edad = viajes.Edad_Usuario.apply(clase_edad)\n",
    "edad = pd.crosstab(index = viajes.Clase_Edad, columns = \"count\")/n*100\n",
    "sns.barplot(x=edad.index,y=edad['count'],color='lightblue')\n",
    "plt.title('Usuarios de Ecobici')\n",
    "plt.ylabel('Porcentaje')\n",
    "plt.xlabel('Edades de usuarios')\n",
    "plt.show()"
   ]
  },
  {
   "cell_type": "markdown",
   "metadata": {},
   "source": [
    "### El 75% de los viajes son realizados por personas entre 20 y 40 años"
   ]
  },
  {
   "cell_type": "markdown",
   "metadata": {},
   "source": [
    "## ¿Cuáles son las estaciones de donde más salen viajes?\n",
    "\n",
    "Esta parte del análisis es interesante porque hacemos el merge con la tabla de estaciones."
   ]
  },
  {
   "cell_type": "code",
   "execution_count": 16,
   "metadata": {},
   "outputs": [
    {
     "data": {
      "text/html": [
       "<div>\n",
       "<style>\n",
       "    .dataframe thead tr:only-child th {\n",
       "        text-align: right;\n",
       "    }\n",
       "\n",
       "    .dataframe thead th {\n",
       "        text-align: left;\n",
       "    }\n",
       "\n",
       "    .dataframe tbody tr th {\n",
       "        vertical-align: top;\n",
       "    }\n",
       "</style>\n",
       "<table border=\"1\" class=\"dataframe\">\n",
       "  <thead>\n",
       "    <tr style=\"text-align: right;\">\n",
       "      <th></th>\n",
       "      <th>id</th>\n",
       "      <th>nombre</th>\n",
       "      <th>colonia</th>\n",
       "      <th>delegacion</th>\n",
       "      <th>longitud</th>\n",
       "      <th>latitud</th>\n",
       "      <th>count</th>\n",
       "    </tr>\n",
       "  </thead>\n",
       "  <tbody>\n",
       "    <tr>\n",
       "      <th>263</th>\n",
       "      <td>271</td>\n",
       "      <td>Carlos J. Meneses-Av. Jesús García</td>\n",
       "      <td>Buenavista</td>\n",
       "      <td>Cuauhtémoc</td>\n",
       "      <td>-99.152894</td>\n",
       "      <td>19.444244</td>\n",
       "      <td>7905</td>\n",
       "    </tr>\n",
       "    <tr>\n",
       "      <th>26</th>\n",
       "      <td>27</td>\n",
       "      <td>Paseo de la Reforma-Havre</td>\n",
       "      <td>Juárez</td>\n",
       "      <td>Cuauhtémoc</td>\n",
       "      <td>-99.162700</td>\n",
       "      <td>19.429160</td>\n",
       "      <td>6577</td>\n",
       "    </tr>\n",
       "    <tr>\n",
       "      <th>0</th>\n",
       "      <td>1</td>\n",
       "      <td>Río Balsas-Río Sena</td>\n",
       "      <td>Cuauhtémoc</td>\n",
       "      <td>Cuauhtémoc</td>\n",
       "      <td>-99.168480</td>\n",
       "      <td>19.432930</td>\n",
       "      <td>6461</td>\n",
       "    </tr>\n",
       "    <tr>\n",
       "      <th>35</th>\n",
       "      <td>36</td>\n",
       "      <td>Puebla-Veracruz</td>\n",
       "      <td>Roma Norte</td>\n",
       "      <td>Cuauhtémoc</td>\n",
       "      <td>-99.175880</td>\n",
       "      <td>19.419660</td>\n",
       "      <td>5256</td>\n",
       "    </tr>\n",
       "    <tr>\n",
       "      <th>179</th>\n",
       "      <td>182</td>\n",
       "      <td>Nuevo. León-Insurgentes Sur</td>\n",
       "      <td>Hipódromo</td>\n",
       "      <td>Cuauhtémoc</td>\n",
       "      <td>-99.170466</td>\n",
       "      <td>19.400665</td>\n",
       "      <td>5045</td>\n",
       "    </tr>\n",
       "  </tbody>\n",
       "</table>\n",
       "</div>"
      ],
      "text/plain": [
       "      id                              nombre     colonia  delegacion  \\\n",
       "263  271  Carlos J. Meneses-Av. Jesús García  Buenavista  Cuauhtémoc   \n",
       "26    27           Paseo de la Reforma-Havre      Juárez  Cuauhtémoc   \n",
       "0      1                 Río Balsas-Río Sena  Cuauhtémoc  Cuauhtémoc   \n",
       "35    36                     Puebla-Veracruz  Roma Norte  Cuauhtémoc   \n",
       "179  182         Nuevo. León-Insurgentes Sur   Hipódromo  Cuauhtémoc   \n",
       "\n",
       "      longitud    latitud  count  \n",
       "263 -99.152894  19.444244   7905  \n",
       "26  -99.162700  19.429160   6577  \n",
       "0   -99.168480  19.432930   6461  \n",
       "35  -99.175880  19.419660   5256  \n",
       "179 -99.170466  19.400665   5045  "
      ]
     },
     "execution_count": 16,
     "metadata": {},
     "output_type": "execute_result"
    }
   ],
   "source": [
    "# calculando estaciones de donde mas se retira\n",
    "retiro = pd.crosstab(index = viajes.Ciclo_Estacion_Retiro, columns = 'count')\n",
    "\n",
    "# pipeline para obtener estaciones de donde mas se retiran bicis\n",
    "top_estaciones_retiro = (\n",
    "    # uniendo con informacion de estaciones\n",
    "    pd.merge(retiro,estaciones,left_index=True,right_on='id')\n",
    "    \n",
    "    # seleccionando las columnas deseadas\n",
    "    [['id','nombre','colonia','delegacion','longitud','latitud','count']]\n",
    "    \n",
    "    # odernando y mostrando primeros valores\n",
    "    .sort_values(['count'],ascending=False)\n",
    "    \n",
    "    # seleccionando el top 5\n",
    "    .head(5)\n",
    ")\n",
    "top_estaciones_retiro"
   ]
  },
  {
   "cell_type": "markdown",
   "metadata": {
    "collapsed": true
   },
   "source": [
    "### La mayor cantidad de retiros ocurre en la zonas de trabajo de la ciudad.\n",
    "\n",
    "### El usuario modelo de las Ecobicis es hombre de 25 años que trabaja en el centro."
   ]
  }
 ],
 "metadata": {
  "kernelspec": {
   "display_name": "Python 3",
   "language": "python",
   "name": "python3"
  },
  "language_info": {
   "codemirror_mode": {
    "name": "ipython",
    "version": 3
   },
   "file_extension": ".py",
   "mimetype": "text/x-python",
   "name": "python",
   "nbconvert_exporter": "python",
   "pygments_lexer": "ipython3",
   "version": "3.6.1"
  }
 },
 "nbformat": 4,
 "nbformat_minor": 2
}
