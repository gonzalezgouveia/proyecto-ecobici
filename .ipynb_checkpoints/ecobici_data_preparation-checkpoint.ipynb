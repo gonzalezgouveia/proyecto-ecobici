{
 "cells": [
  {
   "cell_type": "markdown",
   "metadata": {},
   "source": [
    "# Data preparation\n",
    "\n",
    "En este notebook quiero utilizar los datos que tenemos para crear un tabla que este limpia y lista para ser consumida por la etapa de modeling.\n",
    "\n",
    "El objetivo del modeling en este caso es predecir el número de usuarios activos para cierto día y cierta hora del día. En este sentido la tabla que quiero debe tener las columnas:\n",
    "* dia\n",
    "* hora\n",
    "* usuarios_activos (target)\n",
    "\n",
    "Donde el día sea de lunes a domingo, las horas de 00 a 23 y los usuarios activos un entero.\n",
    "\n",
    "Luego aplicaremos modelos predictivos para poder estimar el número de usuarios activos para un día y una hora dada.\n"
   ]
  },
  {
   "cell_type": "code",
   "execution_count": 2,
   "metadata": {
    "collapsed": true
   },
   "outputs": [],
   "source": [
    "import pandas as pd\n",
    "import matplotlib.pyplot as plt\n",
    "import seaborn as sns\n",
    "sns.set_style(\"darkgrid\")"
   ]
  },
  {
   "cell_type": "code",
   "execution_count": 3,
   "metadata": {
    "collapsed": true
   },
   "outputs": [],
   "source": [
    "# Leyendo los datos\n",
    "estaciones = pd.read_csv('ecobiciestaciones.csv')\n",
    "viajes = pd.read_csv('2018-06.csv')"
   ]
  },
  {
   "cell_type": "code",
   "execution_count": 4,
   "metadata": {},
   "outputs": [
    {
     "data": {
      "text/html": [
       "<div>\n",
       "<style>\n",
       "    .dataframe thead tr:only-child th {\n",
       "        text-align: right;\n",
       "    }\n",
       "\n",
       "    .dataframe thead th {\n",
       "        text-align: left;\n",
       "    }\n",
       "\n",
       "    .dataframe tbody tr th {\n",
       "        vertical-align: top;\n",
       "    }\n",
       "</style>\n",
       "<table border=\"1\" class=\"dataframe\">\n",
       "  <thead>\n",
       "    <tr style=\"text-align: right;\">\n",
       "      <th></th>\n",
       "      <th>Genero_Usuario</th>\n",
       "      <th>Edad_Usuario</th>\n",
       "      <th>Bici</th>\n",
       "      <th>Ciclo_Estacion_Retiro</th>\n",
       "      <th>Fecha_Retiro</th>\n",
       "      <th>Hora_Retiro</th>\n",
       "      <th>Ciclo_Estacion_Arribo</th>\n",
       "      <th>Fecha_Arribo</th>\n",
       "      <th>Hora_Arribo</th>\n",
       "    </tr>\n",
       "  </thead>\n",
       "  <tbody>\n",
       "    <tr>\n",
       "      <th>0</th>\n",
       "      <td>M</td>\n",
       "      <td>31</td>\n",
       "      <td>8871</td>\n",
       "      <td>170</td>\n",
       "      <td>01/06/2018</td>\n",
       "      <td>0:00:11</td>\n",
       "      <td>133</td>\n",
       "      <td>01/06/2018</td>\n",
       "      <td>0:18:39</td>\n",
       "    </tr>\n",
       "    <tr>\n",
       "      <th>1</th>\n",
       "      <td>M</td>\n",
       "      <td>37</td>\n",
       "      <td>10700</td>\n",
       "      <td>123</td>\n",
       "      <td>01/06/2018</td>\n",
       "      <td>0:00:31</td>\n",
       "      <td>52</td>\n",
       "      <td>01/06/2018</td>\n",
       "      <td>0:08:16</td>\n",
       "    </tr>\n",
       "    <tr>\n",
       "      <th>2</th>\n",
       "      <td>M</td>\n",
       "      <td>43</td>\n",
       "      <td>6763</td>\n",
       "      <td>9</td>\n",
       "      <td>01/06/2018</td>\n",
       "      <td>0:00:45</td>\n",
       "      <td>9</td>\n",
       "      <td>01/06/2018</td>\n",
       "      <td>0:42:43</td>\n",
       "    </tr>\n",
       "    <tr>\n",
       "      <th>3</th>\n",
       "      <td>M</td>\n",
       "      <td>23</td>\n",
       "      <td>10316</td>\n",
       "      <td>55</td>\n",
       "      <td>01/06/2018</td>\n",
       "      <td>0:00:52</td>\n",
       "      <td>111</td>\n",
       "      <td>01/06/2018</td>\n",
       "      <td>0:13:29</td>\n",
       "    </tr>\n",
       "    <tr>\n",
       "      <th>4</th>\n",
       "      <td>M</td>\n",
       "      <td>23</td>\n",
       "      <td>15304</td>\n",
       "      <td>139</td>\n",
       "      <td>01/06/2018</td>\n",
       "      <td>0:00:57</td>\n",
       "      <td>155</td>\n",
       "      <td>01/06/2018</td>\n",
       "      <td>0:19:33</td>\n",
       "    </tr>\n",
       "  </tbody>\n",
       "</table>\n",
       "</div>"
      ],
      "text/plain": [
       "  Genero_Usuario  Edad_Usuario   Bici  Ciclo_Estacion_Retiro Fecha_Retiro  \\\n",
       "0              M            31   8871                    170   01/06/2018   \n",
       "1              M            37  10700                    123   01/06/2018   \n",
       "2              M            43   6763                      9   01/06/2018   \n",
       "3              M            23  10316                     55   01/06/2018   \n",
       "4              M            23  15304                    139   01/06/2018   \n",
       "\n",
       "  Hora_Retiro  Ciclo_Estacion_Arribo Fecha_Arribo Hora_Arribo  \n",
       "0     0:00:11                    133   01/06/2018     0:18:39  \n",
       "1     0:00:31                     52   01/06/2018     0:08:16  \n",
       "2     0:00:45                      9   01/06/2018     0:42:43  \n",
       "3     0:00:52                    111   01/06/2018     0:13:29  \n",
       "4     0:00:57                    155   01/06/2018     0:19:33  "
      ]
     },
     "execution_count": 4,
     "metadata": {},
     "output_type": "execute_result"
    }
   ],
   "source": [
    "viajes.head()"
   ]
  },
  {
   "cell_type": "code",
   "execution_count": 9,
   "metadata": {
    "collapsed": true
   },
   "outputs": [],
   "source": [
    "from datetime import datetime"
   ]
  },
  {
   "cell_type": "code",
   "execution_count": 20,
   "metadata": {
    "collapsed": true
   },
   "outputs": [
    {
     "data": {
      "text/plain": [
       "0          01/06/2018 0:00:11\n",
       "1          01/06/2018 0:00:31\n",
       "2          01/06/2018 0:00:45\n",
       "3          01/06/2018 0:00:52\n",
       "4          01/06/2018 0:00:57\n",
       "5          01/06/2018 0:01:11\n",
       "6          01/06/2018 0:01:13\n",
       "7          01/06/2018 0:01:25\n",
       "8          01/06/2018 0:01:26\n",
       "9          01/06/2018 0:01:37\n",
       "10         01/06/2018 0:01:49\n",
       "11         01/06/2018 0:01:54\n",
       "12         01/06/2018 0:01:58\n",
       "13         01/06/2018 0:02:04\n",
       "14         01/06/2018 0:02:04\n",
       "15         01/06/2018 0:02:24\n",
       "16         01/06/2018 0:02:34\n",
       "17         01/06/2018 0:02:51\n",
       "18         01/06/2018 0:03:15\n",
       "19         01/06/2018 0:03:29\n",
       "20         01/06/2018 0:03:52\n",
       "21         01/06/2018 0:04:04\n",
       "22         01/06/2018 0:04:19\n",
       "23         01/06/2018 0:04:46\n",
       "24         01/06/2018 0:04:54\n",
       "25         01/06/2018 0:04:55\n",
       "26         01/06/2018 0:05:10\n",
       "27         01/06/2018 0:05:30\n",
       "28         01/06/2018 0:05:45\n",
       "29         01/06/2018 0:05:58\n",
       "                 ...         \n",
       "690091    29/06/2018 23:54:34\n",
       "690092    29/06/2018 23:54:39\n",
       "690093    29/06/2018 23:54:47\n",
       "690094    29/06/2018 23:55:31\n",
       "690095    29/06/2018 23:55:33\n",
       "690096    29/06/2018 23:55:39\n",
       "690097    29/06/2018 23:55:49\n",
       "690098    29/06/2018 23:56:01\n",
       "690099    29/06/2018 23:56:03\n",
       "690100    29/06/2018 23:56:10\n",
       "690101    29/06/2018 23:56:18\n",
       "690102    29/06/2018 23:56:30\n",
       "690103    29/06/2018 23:56:38\n",
       "690104    29/06/2018 23:56:39\n",
       "690105    29/06/2018 23:57:00\n",
       "690106    29/06/2018 23:57:24\n",
       "690107    29/06/2018 23:57:34\n",
       "690108    29/06/2018 23:57:42\n",
       "690109    29/06/2018 23:57:56\n",
       "690110    29/06/2018 23:58:17\n",
       "690111    29/06/2018 23:58:18\n",
       "690112    29/06/2018 23:58:45\n",
       "690113    29/06/2018 23:58:58\n",
       "690114    29/06/2018 23:59:04\n",
       "690115    29/06/2018 23:59:14\n",
       "690116    29/06/2018 23:59:27\n",
       "690117    29/06/2018 23:59:38\n",
       "690118    29/06/2018 23:59:52\n",
       "690119    29/06/2018 23:59:54\n",
       "690120    29/06/2018 23:59:54\n",
       "Length: 690121, dtype: object"
      ]
     },
     "execution_count": 20,
     "metadata": {},
     "output_type": "execute_result"
    }
   ],
   "source": []
  },
  {
   "cell_type": "code",
   "execution_count": 29,
   "metadata": {
    "collapsed": true
   },
   "outputs": [],
   "source": [
    "# concatenar Hora_Retiro y Fecha_Retiro\n",
    "viajes.fecha_hora_retiro = viajes.Fecha_Retiro+' '+viajes.Hora_Retiro"
   ]
  },
  {
   "cell_type": "code",
   "execution_count": 32,
   "metadata": {},
   "outputs": [],
   "source": [
    "# convertir fecha y hora a datetime\n",
    "viajes.fecha_hora_retiro.head()\n",
    "\n",
    "def convierte_fecha(str_fecha_hora):\n",
    "    return datetime.strptime(str_fecha_hora, '%d/%m/%Y %H:%M:%S')\n",
    "\n",
    "viajes.datetime = viajes.fecha_hora_retiro.map(convierte_fecha)"
   ]
  },
  {
   "cell_type": "code",
   "execution_count": 70,
   "metadata": {},
   "outputs": [],
   "source": [
    "# extraer dia de la semana\n",
    "def dia_de_semana(datetime_obj):\n",
    "    dia_numero = datetime_obj.weekday()\n",
    "    if dia_numero == 0:\n",
    "        return 'Lunes'\n",
    "    elif dia_numero == 1:\n",
    "        return 'Martes'\n",
    "    elif dia_numero == 3:\n",
    "        return 'Miercoles'\n",
    "    elif dia_numero == 4:\n",
    "        return 'Jueves'\n",
    "    elif dia_numero == 5:\n",
    "        return 'Viernes'\n",
    "    elif dia_numero == 6:\n",
    "        return 'Sabado'\n",
    "    elif dia_numero == 7:\n",
    "        return 'Domingo'\n",
    "viajes['dia_semana'] = viajes.datetime.map(dia_de_semana)"
   ]
  },
  {
   "cell_type": "code",
   "execution_count": 67,
   "metadata": {},
   "outputs": [],
   "source": [
    "# extraer la hora\n",
    "viajes['hora'] = viajes.datetime.map(lambda x : x.hour)"
   ]
  },
  {
   "cell_type": "code",
   "execution_count": 73,
   "metadata": {},
   "outputs": [
    {
     "data": {
      "text/plain": [
       "dia_semana  hora\n",
       "Jueves      0         466\n",
       "            5         712\n",
       "            6        2936\n",
       "            7        8776\n",
       "            8       14818\n",
       "            9       10256\n",
       "            10       6441\n",
       "            11       5776\n",
       "            12       6192\n",
       "            13       7480\n",
       "            14      10244\n",
       "            15      12232\n",
       "            16       9026\n",
       "            17       9958\n",
       "            18      11944\n",
       "            19       9846\n",
       "            20       4084\n",
       "            21       2953\n",
       "            22       2247\n",
       "            23       1415\n",
       "Lunes       0         152\n",
       "            5         580\n",
       "            6        2510\n",
       "            7        7029\n",
       "            8       12724\n",
       "            9        9030\n",
       "            10       5116\n",
       "            11       4279\n",
       "            12       4460\n",
       "            13       5605\n",
       "                    ...  \n",
       "Sabado      14       3542\n",
       "            15       2822\n",
       "            16       2701\n",
       "            17       2416\n",
       "            18       2327\n",
       "            19       2406\n",
       "            20       2172\n",
       "            21       1474\n",
       "            22       1042\n",
       "            23        525\n",
       "Viernes     0         547\n",
       "            5         236\n",
       "            6         741\n",
       "            7        1778\n",
       "            8        3181\n",
       "            9        4250\n",
       "            10       4030\n",
       "            11       4599\n",
       "            12       5570\n",
       "            13       5767\n",
       "            14       5668\n",
       "            15       4984\n",
       "            16       4621\n",
       "            17       4134\n",
       "            18       3220\n",
       "            19       2660\n",
       "            20       2289\n",
       "            21       1845\n",
       "            22       1490\n",
       "            23       1041\n",
       "Name: Bici, Length: 120, dtype: int64"
      ]
     },
     "execution_count": 73,
     "metadata": {},
     "output_type": "execute_result"
    }
   ],
   "source": [
    "# agrupar por dia y hora y tomar el conteo (en teoria esta es la tabla final)\n",
    "viajes.groupby(['dia_semana','hora']).Bici.count()"
   ]
  }
 ],
 "metadata": {
  "kernelspec": {
   "display_name": "Python 3",
   "language": "python",
   "name": "python3"
  },
  "language_info": {
   "codemirror_mode": {
    "name": "ipython",
    "version": 3
   },
   "file_extension": ".py",
   "mimetype": "text/x-python",
   "name": "python",
   "nbconvert_exporter": "python",
   "pygments_lexer": "ipython3",
   "version": "3.6.1"
  }
 },
 "nbformat": 4,
 "nbformat_minor": 2
}
